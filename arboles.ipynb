{
  "nbformat": 4,
  "nbformat_minor": 0,
  "metadata": {
    "colab": {
      "name": "Untitled2.ipynb",
      "provenance": [],
      "authorship_tag": "ABX9TyOpOdHJpD3CV+oV+8zMVlxi",
      "include_colab_link": true
    },
    "kernelspec": {
      "name": "python3",
      "display_name": "Python 3"
    },
    "language_info": {
      "name": "python"
    }
  },
  "cells": [
    {
      "cell_type": "markdown",
      "metadata": {
        "id": "view-in-github",
        "colab_type": "text"
      },
      "source": [
        "<a href=\"https://colab.research.google.com/github/vanityfer/sirenas/blob/main/arboles.ipynb\" target=\"_parent\"><img src=\"https://colab.research.google.com/assets/colab-badge.svg\" alt=\"Open In Colab\"/></a>"
      ]
    },
    {
      "cell_type": "code",
      "metadata": {
        "colab": {
          "base_uri": "https://localhost:8080/"
        },
        "id": "jAHDoLlhvmLn",
        "outputId": "f7740f01-1f65-4269-b59e-aff370618a31"
      },
      "source": [
        "nombre_archivo = 'arbolado-en-espacios-verdes.csv'\n",
        "\n",
        "def leer_arboles(nombre_archivo):\n",
        "    \n",
        "    '''\n",
        "    devuelve una lista con un diccionario para cada uno de los 51502 árboles    \n",
        "\n",
        "    '''\n",
        "    \n",
        "    import csv\n",
        "    f = open(nombre_archivo,\"rt\", encoding=\"utf-8\")\n",
        "    rows = csv.reader(f)\n",
        "   \n",
        "    headers = next(rows)\n",
        "    select = ['long',\n",
        " 'lat',\n",
        " 'id_arbol',\n",
        " 'altura_tot',\n",
        " 'diametro',\n",
        " 'inclinacio',\n",
        " 'id_especie',\n",
        " 'nombre_com',\n",
        " 'nombre_cie',\n",
        " 'tipo_folla',\n",
        " 'espacio_ve',\n",
        " 'ubicacion',\n",
        " 'nombre_fam',\n",
        " 'nombre_gen',\n",
        " 'origen',\n",
        " 'coord_x',\n",
        " 'coord_y']\n",
        "                \n",
        "    indices = [ headers.index(ncolumna) for ncolumna in select ]\n",
        "      \n",
        "    arboleda = [{ ncolumna: row[index] for ncolumna, index in zip(select, indices)} for row in rows]\n",
        "    return arboleda\n",
        "    \n",
        "arboleda = leer_arboles('arbolado-en-espacios-verdes.csv')\n",
        "# print(arboleda)\n",
        "\n",
        "H = [float(arbol['altura_tot']) for arbol in arboleda if arbol['nombre_com'] == 'Jacarandá']\n",
        "\n",
        "print(H)\n",
        "len(H)\n",
        "\n",
        "\n",
        "\n"
      ],
      "execution_count": 8,
      "outputs": [
        {
          "output_type": "stream",
          "text": [
            "[5.0, 5.0, 5.0, 5.0, 5.0, 5.0, 5.0, 5.0, 5.0, 5.0, 5.0, 5.0, 5.0, 5.0, 5.0, 5.0, 5.0, 5.0, 5.0, 12.0, 12.0, 12.0, 12.0, 12.0, 7.0, 7.0, 7.0, 7.0, 7.0, 7.0, 8.0, 8.0, 8.0, 8.0, 8.0, 8.0, 8.0, 8.0, 8.0, 8.0, 8.0, 8.0, 8.0, 8.0, 8.0, 8.0, 7.0, 7.0, 7.0, 7.0, 7.0, 12.0, 12.0, 10.0, 15.0, 8.0, 15.0, 12.0, 11.0, 20.0, 20.0, 14.0, 7.0, 8.0, 16.0, 7.0, 13.0, 21.0, 13.0, 13.0, 15.0, 15.0, 5.0, 14.0, 17.0, 10.0, 7.0, 16.0, 8.0, 8.0, 14.0, 8.0, 9.0, 8.0, 12.0, 6.0, 11.0, 1.0, 16.0, 15.0, 16.0, 9.0, 11.0, 11.0, 7.0, 7.0, 12.0, 7.0, 12.0, 7.0, 12.0, 12.0, 2.0, 14.0, 18.0, 18.0, 18.0, 11.0, 7.0, 17.0, 8.0, 7.0, 7.0, 11.0, 10.0, 13.0, 15.0, 21.0, 21.0, 21.0, 21.0, 13.0, 15.0, 20.0, 20.0, 10.0, 19.0, 19.0, 6.0, 6.0, 10.0, 10.0, 1.0, 11.0, 6.0, 15.0, 15.0, 17.0, 16.0, 13.0, 8.0, 3.0, 3.0, 5.0, 2.0, 3.0, 16.0, 4.0, 8.0, 7.0, 2.0, 14.0, 9.0, 14.0, 11.0, 20.0, 16.0, 1.0, 6.0, 23.0, 23.0, 3.0, 4.0, 2.0, 21.0, 2.0, 3.0, 3.0, 13.0, 13.0, 3.0, 3.0, 6.0, 2.0, 14.0, 14.0, 15.0, 6.0, 4.0, 2.0, 2.0, 4.0, 1.0, 6.0, 10.0, 10.0, 5.0, 8.0, 10.0, 4.0, 14.0, 6.0, 13.0, 5.0, 5.0, 6.0, 3.0, 16.0, 7.0, 8.0, 6.0, 3.0, 5.0, 3.0, 11.0, 5.0, 4.0, 10.0, 10.0, 13.0, 10.0, 3.0, 18.0, 11.0, 21.0, 10.0, 12.0, 12.0, 17.0, 3.0, 15.0, 10.0, 16.0, 16.0, 13.0, 13.0, 16.0, 3.0, 16.0, 14.0, 14.0, 4.0, 4.0, 20.0, 3.0, 17.0, 2.0, 20.0, 3.0, 20.0, 20.0, 12.0, 6.0, 23.0, 13.0, 13.0, 16.0, 6.0, 12.0, 20.0, 4.0, 20.0, 3.0, 4.0, 5.0, 9.0, 4.0, 4.0, 4.0, 3.0, 4.0, 7.0, 8.0, 8.0, 8.0, 5.0, 6.0, 8.0, 2.0, 2.0, 2.0, 8.0, 3.0, 3.0, 4.0, 4.0, 7.0, 16.0, 16.0, 15.0, 8.0, 15.0, 15.0, 8.0, 7.0, 8.0, 8.0, 9.0, 9.0, 10.0, 7.0, 30.0, 5.0, 1.0, 3.0, 3.0, 2.0, 4.0, 6.0, 7.0, 6.0, 9.0, 12.0, 9.0, 18.0, 5.0, 4.0, 5.0, 6.0, 18.0, 13.0, 22.0, 10.0, 12.0, 10.0, 11.0, 11.0, 3.0, 3.0, 3.0, 3.0, 3.0, 12.0, 11.0, 12.0, 12.0, 22.0, 16.0, 5.0, 3.0, 3.0, 3.0, 5.0, 6.0, 5.0, 5.0, 6.0, 15.0, 7.0, 20.0, 13.0, 11.0, 8.0, 6.0, 13.0, 15.0, 4.0, 10.0, 10.0, 4.0, 6.0, 8.0, 12.0, 5.0, 6.0, 7.0, 15.0, 17.0, 17.0, 20.0, 3.0, 11.0, 12.0, 13.0, 7.0, 14.0, 20.0, 21.0, 13.0, 15.0, 7.0, 6.0, 21.0, 17.0, 12.0, 13.0, 14.0, 5.0, 7.0, 14.0, 14.0, 18.0, 19.0, 19.0, 49.0, 19.0, 18.0, 20.0, 7.0, 2.0, 19.0, 22.0, 12.0, 12.0, 12.0, 12.0, 12.0, 12.0, 12.0, 12.0, 13.0, 5.0, 6.0, 6.0, 17.0, 20.0, 12.0, 9.0, 2.0, 12.0, 14.0, 14.0, 14.0, 15.0, 15.0, 15.0, 15.0, 13.0, 13.0, 9.0, 14.0, 3.0, 8.0, 6.0, 9.0, 15.0, 15.0, 12.0, 13.0, 3.0, 18.0, 10.0, 16.0, 11.0, 14.0, 6.0, 13.0, 7.0, 7.0, 15.0, 6.0, 9.0, 11.0, 17.0, 14.0, 2.0, 16.0, 15.0, 15.0, 13.0, 7.0, 9.0, 6.0, 6.0, 6.0, 19.0, 6.0, 5.0, 4.0, 4.0, 6.0, 4.0, 4.0, 3.0, 6.0, 18.0, 17.0, 23.0, 4.0, 17.0, 17.0, 16.0, 16.0, 17.0, 6.0, 19.0, 5.0, 17.0, 3.0, 3.0, 3.0, 16.0, 17.0, 3.0, 5.0, 14.0, 9.0, 10.0, 11.0, 12.0, 11.0, 12.0, 4.0, 4.0, 16.0, 16.0, 3.0, 14.0, 20.0, 12.0, 20.0, 17.0, 12.0, 13.0, 10.0, 15.0, 9.0, 11.0, 13.0, 12.0, 16.0, 12.0, 20.0, 7.0, 3.0, 13.0, 15.0, 12.0, 6.0, 14.0, 17.0, 20.0, 15.0, 2.0, 12.0, 14.0, 14.0, 2.0, 2.0, 2.0, 8.0, 14.0, 14.0, 11.0, 11.0, 13.0, 13.0, 11.0, 14.0, 14.0, 18.0, 14.0, 2.0, 14.0, 10.0, 21.0, 16.0, 18.0, 16.0, 14.0, 14.0, 14.0, 14.0, 14.0, 17.0, 18.0, 28.0, 16.0, 14.0, 13.0, 15.0, 18.0, 17.0, 12.0, 12.0, 12.0, 12.0, 16.0, 15.0, 12.0, 15.0, 15.0, 15.0, 15.0, 15.0, 15.0, 16.0, 16.0, 7.0, 6.0, 7.0, 6.0, 12.0, 12.0, 12.0, 8.0, 15.0, 19.0, 17.0, 22.0, 8.0, 12.0, 22.0, 22.0, 4.0, 9.0, 9.0, 9.0, 15.0, 19.0, 14.0, 20.0, 13.0, 12.0, 6.0, 8.0, 18.0, 8.0, 14.0, 5.0, 15.0, 17.0, 9.0, 9.0, 9.0, 11.0, 3.0, 3.0, 18.0, 18.0, 18.0, 13.0, 13.0, 9.0, 8.0, 8.0, 13.0, 16.0, 12.0, 9.0, 9.0, 9.0, 10.0, 7.0, 9.0, 12.0, 13.0, 8.0, 2.0, 7.0, 12.0, 14.0, 6.0, 10.0, 10.0, 10.0, 7.0, 14.0, 3.0, 10.0, 9.0, 20.0, 9.0, 2.0, 3.0, 4.0, 15.0, 8.0, 12.0, 11.0, 9.0, 12.0, 12.0, 12.0, 5.0, 9.0, 14.0, 10.0, 3.0, 5.0, 3.0, 3.0, 3.0, 4.0, 4.0, 4.0, 4.0, 4.0, 2.0, 12.0, 9.0, 6.0, 4.0, 5.0, 15.0, 15.0, 16.0, 16.0, 12.0, 8.0, 4.0, 4.0, 6.0, 7.0, 2.0, 9.0, 7.0, 7.0, 7.0, 7.0, 6.0, 6.0, 6.0, 6.0, 9.0, 9.0, 6.0, 4.0, 7.0, 7.0, 8.0, 12.0, 10.0, 10.0, 10.0, 10.0, 10.0, 7.0, 3.0, 21.0, 18.0, 3.0, 5.0, 5.0, 4.0, 8.0, 3.0, 5.0, 4.0, 6.0, 14.0, 14.0, 14.0, 16.0, 16.0, 13.0, 13.0, 15.0, 14.0, 16.0, 16.0, 16.0, 12.0, 12.0, 7.0, 3.0, 9.0, 8.0, 21.0, 10.0, 6.0, 16.0, 11.0, 7.0, 12.0, 13.0, 6.0, 12.0, 10.0, 1.0, 2.0, 2.0, 22.0, 12.0, 22.0, 9.0, 6.0, 11.0, 5.0, 14.0, 3.0, 4.0, 4.0, 4.0, 3.0, 4.0, 2.0, 2.0, 2.0, 16.0, 6.0, 8.0, 14.0, 13.0, 8.0, 8.0, 13.0, 4.0, 6.0, 6.0, 6.0, 12.0, 13.0, 12.0, 10.0, 11.0, 3.0, 2.0, 3.0, 3.0, 3.0, 10.0, 3.0, 4.0, 5.0, 3.0, 2.0, 2.0, 2.0, 3.0, 3.0, 10.0, 12.0, 6.0, 10.0, 7.0, 7.0, 16.0, 12.0, 4.0, 8.0, 13.0, 15.0, 17.0, 19.0, 13.0, 7.0, 7.0, 7.0, 7.0, 7.0, 7.0, 7.0, 7.0, 7.0, 7.0, 7.0, 7.0, 5.0, 5.0, 5.0, 5.0, 5.0, 5.0, 12.0, 1.0, 18.0, 3.0, 3.0, 10.0, 10.0, 13.0, 21.0, 15.0, 17.0, 12.0, 16.0, 18.0, 11.0, 14.0, 12.0, 12.0, 26.0, 18.0, 20.0, 20.0, 15.0, 13.0, 15.0, 14.0, 14.0, 8.0, 10.0, 9.0, 11.0, 7.0, 7.0, 12.0, 12.0, 7.0, 7.0, 9.0, 11.0, 7.0, 8.0, 11.0, 7.0, 4.0, 2.0, 5.0, 2.0, 3.0, 8.0, 2.0, 2.0, 2.0, 1.0, 16.0, 16.0, 16.0, 16.0, 8.0, 9.0, 15.0, 8.0, 6.0, 4.0, 3.0, 8.0, 7.0, 5.0, 6.0, 7.0, 5.0, 7.0, 7.0, 15.0, 17.0, 4.0, 6.0, 10.0, 17.0, 14.0, 12.0, 14.0, 8.0, 14.0, 8.0, 3.0, 7.0, 7.0, 8.0, 16.0, 4.0, 11.0, 10.0, 11.0, 12.0, 18.0, 18.0, 6.0, 6.0, 7.0, 10.0, 16.0, 13.0, 9.0, 10.0, 6.0, 6.0, 21.0, 16.0, 16.0, 16.0, 6.0, 2.0, 3.0, 4.0, 3.0, 18.0, 13.0, 8.0, 8.0, 2.0, 6.0, 8.0, 2.0, 3.0, 4.0, 4.0, 2.0, 11.0, 7.0, 6.0, 2.0, 2.0, 15.0, 8.0, 2.0, 11.0, 11.0, 4.0, 5.0, 5.0, 7.0, 5.0, 7.0, 7.0, 10.0, 18.0, 16.0, 6.0, 7.0, 5.0, 6.0, 1.0, 5.0, 17.0, 4.0, 5.0, 3.0, 24.0, 13.0, 19.0, 16.0, 21.0, 6.0, 6.0, 20.0, 2.0, 3.0, 15.0, 2.0, 10.0, 2.0, 3.0, 1.0, 14.0, 15.0, 14.0, 14.0, 4.0, 4.0, 25.0, 20.0, 15.0, 14.0, 2.0, 12.0, 16.0, 15.0, 7.0, 13.0, 13.0, 8.0, 10.0, 20.0, 16.0, 13.0, 19.0, 5.0, 16.0, 20.0, 3.0, 2.0, 4.0, 8.0, 6.0, 5.0, 4.0, 5.0, 8.0, 7.0, 3.0, 9.0, 4.0, 3.0, 5.0, 5.0, 2.0, 2.0, 2.0, 6.0, 6.0, 15.0, 2.0, 7.0, 24.0, 11.0, 4.0, 15.0, 18.0, 6.0, 8.0, 7.0, 8.0, 9.0, 9.0, 9.0, 9.0, 8.0, 9.0, 5.0, 6.0, 6.0, 6.0, 4.0, 5.0, 10.0, 13.0, 13.0, 23.0, 14.0, 10.0, 23.0, 23.0, 20.0, 3.0, 1.0, 2.0, 10.0, 1.0, 12.0, 5.0, 3.0, 3.0, 3.0, 6.0, 5.0, 6.0, 6.0, 5.0, 7.0, 7.0, 20.0, 11.0, 1.0, 16.0, 16.0, 15.0, 3.0, 3.0, 3.0, 10.0, 10.0, 16.0, 11.0, 9.0, 15.0, 7.0, 17.0, 20.0, 14.0, 7.0, 5.0, 12.0, 18.0, 15.0, 20.0, 21.0, 21.0, 19.0, 18.0, 16.0, 3.0, 2.0, 3.0, 7.0, 7.0, 15.0, 13.0, 13.0, 22.0, 18.0, 18.0, 18.0, 6.0, 5.0, 25.0, 19.0, 18.0, 19.0, 6.0, 9.0, 4.0, 14.0, 14.0, 2.0, 2.0, 3.0, 3.0, 3.0, 12.0, 12.0, 12.0, 12.0, 12.0, 14.0, 15.0, 15.0, 15.0, 20.0, 2.0, 2.0, 16.0, 10.0, 5.0, 3.0, 2.0, 3.0, 14.0, 15.0, 12.0, 2.0, 17.0, 14.0, 5.0, 5.0, 5.0, 13.0, 9.0, 8.0, 9.0, 9.0, 16.0, 16.0, 16.0, 17.0, 17.0, 17.0, 6.0, 13.0, 13.0, 8.0, 18.0, 18.0, 7.0, 10.0, 8.0, 5.0, 6.0, 13.0, 16.0, 16.0, 23.0, 16.0, 15.0, 22.0, 11.0, 12.0, 2.0, 6.0, 18.0, 18.0, 19.0, 5.0, 4.0, 4.0, 6.0, 17.0, 9.0, 6.0, 5.0, 5.0, 3.0, 4.0, 7.0, 7.0, 19.0, 22.0, 22.0, 21.0, 25.0, 4.0, 24.0, 17.0, 20.0, 15.0, 10.0, 18.0, 16.0, 6.0, 6.0, 5.0, 18.0, 6.0, 21.0, 5.0, 5.0, 5.0, 6.0, 4.0, 18.0, 19.0, 18.0, 9.0, 14.0, 1.0, 14.0, 12.0, 12.0, 4.0, 16.0, 10.0, 10.0, 16.0, 7.0, 15.0, 17.0, 13.0, 12.0, 13.0, 8.0, 11.0, 3.0, 10.0, 16.0, 18.0, 11.0, 19.0, 4.0, 11.0, 15.0, 13.0, 14.0, 14.0, 15.0, 12.0, 13.0, 15.0, 15.0, 10.0, 11.0, 14.0, 10.0, 9.0, 13.0, 16.0, 16.0, 16.0, 4.0, 15.0, 18.0, 18.0, 2.0, 2.0, 28.0, 28.0, 18.0, 12.0, 12.0, 13.0, 13.0, 14.0, 10.0, 15.0, 3.0, 12.0, 10.0, 4.0, 16.0, 15.0, 15.0, 10.0, 6.0, 6.0, 6.0, 7.0, 5.0, 6.0, 5.0, 6.0, 5.0, 12.0, 4.0, 12.0, 9.0, 11.0, 15.0, 18.0, 15.0, 22.0, 22.0, 12.0, 13.0, 23.0, 24.0, 13.0, 16.0, 20.0, 22.0, 20.0, 13.0, 13.0, 12.0, 12.0, 10.0, 17.0, 8.0, 9.0, 10.0, 14.0, 17.0, 13.0, 13.0, 15.0, 15.0, 15.0, 15.0, 20.0, 7.0, 7.0, 9.0, 7.0, 12.0, 15.0, 15.0, 11.0, 6.0, 6.0, 21.0, 21.0, 19.0, 20.0, 22.0, 6.0, 13.0, 6.0, 11.0, 10.0, 10.0, 6.0, 10.0, 10.0, 6.0, 13.0, 9.0, 14.0, 4.0, 12.0, 11.0, 4.0, 5.0, 2.0, 2.0, 14.0, 15.0, 10.0, 8.0, 8.0, 6.0, 3.0, 17.0, 17.0, 17.0, 3.0, 20.0, 9.0, 3.0, 2.0, 12.0, 12.0, 11.0, 3.0, 10.0, 15.0, 5.0, 11.0, 5.0, 14.0, 8.0, 20.0, 3.0, 3.0, 3.0, 3.0, 4.0, 4.0, 10.0, 12.0, 10.0, 12.0, 6.0, 7.0, 4.0, 15.0, 15.0, 16.0, 15.0, 15.0, 4.0, 8.0, 7.0, 17.0, 7.0, 7.0, 7.0, 6.0, 7.0, 7.0, 7.0, 6.0, 9.0, 6.0, 14.0, 9.0, 3.0, 15.0, 15.0, 15.0, 8.0, 12.0, 6.0, 7.0, 3.0, 5.0, 14.0, 7.0, 10.0, 10.0, 10.0, 10.0, 7.0, 7.0, 7.0, 7.0, 7.0, 8.0, 10.0, 11.0, 3.0, 9.0, 3.0, 4.0, 9.0, 7.0, 5.0, 3.0, 4.0, 3.0, 7.0, 3.0, 10.0, 14.0, 18.0, 13.0, 13.0, 14.0, 4.0, 16.0, 14.0, 15.0, 13.0, 15.0, 16.0, 14.0, 8.0, 4.0, 8.0, 5.0, 8.0, 12.0, 13.0, 6.0, 7.0, 7.0, 2.0, 1.0, 1.0, 21.0, 21.0, 2.0, 12.0, 1.0, 6.0, 22.0, 6.0, 4.0, 9.0, 6.0, 10.0, 2.0, 3.0, 10.0, 8.0, 4.0, 4.0, 5.0, 8.0, 4.0, 3.0, 3.0, 2.0, 4.0, 16.0, 12.0, 4.0, 3.0, 6.0, 2.0, 13.0, 9.0, 10.0, 3.0, 2.0, 2.0, 2.0, 3.0, 6.0, 3.0, 2.0, 5.0, 4.0, 4.0, 3.0, 2.0, 2.0, 2.0, 3.0, 2.0, 2.0, 3.0, 3.0, 15.0, 7.0, 10.0, 7.0, 12.0, 8.0, 9.0, 5.0, 10.0, 14.0, 15.0, 10.0, 1.0, 10.0, 5.0, 5.0, 5.0, 9.0, 9.0, 8.0, 8.0, 8.0, 8.0, 7.0, 7.0, 7.0, 7.0, 7.0, 7.0, 3.0, 3.0, 13.0, 15.0, 4.0, 4.0, 4.0, 13.0, 3.0, 3.0, 18.0, 7.0, 8.0, 4.0, 12.0, 13.0, 16.0, 4.0, 3.0, 13.0, 5.0, 4.0, 4.0, 21.0, 14.0, 13.0, 15.0, 15.0, 23.0, 6.0, 16.0, 6.0, 6.0, 10.0, 10.0, 10.0, 9.0, 9.0, 7.0, 9.0, 10.0, 13.0, 9.0, 9.0, 14.0, 6.0, 4.0, 13.0, 19.0, 2.0, 2.0, 2.0, 3.0, 16.0, 16.0, 16.0, 16.0, 10.0, 2.0, 6.0, 7.0, 7.0, 6.0, 6.0, 7.0, 8.0, 7.0, 7.0, 12.0, 18.0, 8.0, 12.0, 19.0, 3.0, 20.0, 16.0, 12.0, 7.0, 6.0, 18.0, 16.0, 12.0, 12.0, 12.0, 12.0, 18.0, 21.0, 16.0, 6.0, 7.0, 11.0, 20.0, 12.0, 19.0, 5.0, 2.0, 4.0, 15.0, 4.0, 6.0, 6.0, 16.0, 13.0, 16.0, 14.0, 14.0, 5.0, 4.0, 4.0, 3.0, 4.0, 4.0, 4.0, 4.0, 5.0, 4.0, 4.0, 8.0, 2.0, 6.0, 10.0, 2.0, 3.0, 4.0, 3.0, 2.0, 15.0, 11.0, 11.0, 10.0, 4.0, 2.0, 16.0, 7.0, 2.0, 4.0, 4.0, 4.0, 3.0, 3.0, 14.0, 27.0, 4.0, 3.0, 16.0, 11.0, 2.0, 16.0, 6.0, 11.0, 7.0, 11.0, 12.0, 19.0, 8.0, 16.0, 12.0, 7.0, 6.0, 5.0, 5.0, 5.0, 3.0, 1.0, 5.0, 22.0, 13.0, 10.0, 10.0, 18.0, 5.0, 7.0, 15.0, 15.0, 4.0, 20.0, 10.0, 5.0, 20.0, 19.0, 10.0, 12.0, 13.0, 14.0, 14.0, 14.0, 16.0, 4.0, 3.0, 4.0, 24.0, 20.0, 22.0, 20.0, 12.0, 14.0, 16.0, 13.0, 20.0, 8.0, 15.0, 3.0, 12.0, 9.0, 20.0, 19.0, 19.0, 14.0, 15.0, 2.0, 2.0, 8.0, 13.0, 3.0, 6.0, 3.0, 5.0, 8.0, 6.0, 3.0, 7.0, 9.0, 8.0, 7.0, 6.0, 6.0, 2.0, 1.0, 2.0, 1.0, 5.0, 3.0, 6.0, 5.0, 5.0, 6.0, 4.0, 7.0, 4.0, 16.0, 10.0, 5.0, 11.0, 10.0, 6.0, 7.0, 7.0, 8.0, 8.0, 34.0, 6.0, 6.0, 7.0, 6.0, 20.0, 1.0, 3.0, 6.0, 4.0, 18.0, 13.0, 13.0, 1.0, 13.0, 14.0, 21.0, 24.0, 23.0, 12.0, 11.0, 3.0, 11.0, 12.0, 21.0, 4.0, 2.0, 3.0, 12.0, 6.0, 4.0, 6.0, 7.0, 6.0, 8.0, 5.0, 10.0, 3.0, 3.0, 2.0, 3.0, 11.0, 7.0, 8.0, 5.0, 16.0, 20.0, 16.0, 11.0, 20.0, 3.0, 12.0, 8.0, 4.0, 18.0, 18.0, 21.0, 10.0, 20.0, 21.0, 18.0, 9.0, 16.0, 10.0, 6.0, 19.0, 12.0, 14.0, 12.0, 18.0, 7.0, 8.0, 18.0, 17.0, 10.0, 19.0, 19.0, 19.0, 14.0, 18.0, 4.0, 14.0, 10.0, 10.0, 10.0, 22.0, 22.0, 3.0, 10.0, 12.0, 7.0, 6.0, 20.0, 2.0, 16.0, 13.0, 13.0, 16.0, 15.0, 1.0, 3.0, 3.0, 16.0, 17.0, 11.0, 15.0, 15.0, 15.0, 4.0, 13.0, 12.0, 14.0, 7.0, 1.0, 6.0, 15.0, 17.0, 14.0, 17.0, 18.0, 15.0, 18.0, 15.0, 15.0, 18.0, 12.0, 19.0, 14.0, 12.0, 14.0, 20.0, 3.0, 6.0, 9.0, 16.0, 6.0, 8.0, 11.0, 5.0, 19.0, 12.0, 11.0, 16.0, 3.0, 12.0, 12.0, 7.0, 6.0, 6.0, 6.0, 6.0, 18.0, 18.0, 10.0, 10.0, 5.0, 6.0, 16.0, 17.0, 5.0, 4.0, 3.0, 20.0, 20.0, 5.0, 17.0, 19.0, 19.0, 22.0, 21.0, 23.0, 22.0, 22.0, 23.0, 3.0, 5.0, 6.0, 4.0, 6.0, 17.0, 20.0, 10.0, 14.0, 18.0, 16.0, 22.0, 16.0, 16.0, 16.0, 5.0, 5.0, 21.0, 5.0, 16.0, 3.0, 3.0, 6.0, 4.0, 19.0, 19.0, 9.0, 8.0, 12.0, 14.0, 9.0, 12.0, 22.0, 13.0, 10.0, 17.0, 16.0, 3.0, 16.0, 11.0, 20.0, 20.0, 20.0, 17.0, 14.0, 14.0, 13.0, 13.0, 13.0, 15.0, 9.0, 5.0, 13.0, 12.0, 12.0, 14.0, 9.0, 13.0, 13.0, 13.0, 6.0, 17.0, 9.0, 3.0, 3.0, 14.0, 14.0, 14.0, 2.0, 13.0, 11.0, 4.0, 14.0, 13.0, 9.0, 8.0, 9.0, 2.0, 20.0, 20.0, 15.0, 21.0, 16.0, 16.0, 16.0, 14.0, 14.0, 15.0, 16.0, 16.0, 27.0, 3.0, 2.0, 20.0, 11.0, 7.0, 14.0, 15.0, 17.0, 17.0, 16.0, 13.0, 10.0, 15.0, 15.0, 15.0, 15.0, 16.0, 27.0, 6.0, 4.0, 6.0, 5.0, 12.0, 11.0, 10.0, 7.0, 12.0, 12.0, 18.0, 12.0, 12.0, 12.0, 9.0, 15.0, 16.0, 16.0, 12.0, 24.0, 24.0, 23.0, 24.0, 24.0, 17.0, 11.0, 10.0, 16.0, 16.0, 2.0, 9.0, 9.0, 20.0, 12.0, 15.0, 4.0, 21.0, 15.0, 15.0, 17.0, 6.0, 7.0, 8.0, 13.0, 13.0, 15.0, 14.0, 15.0, 15.0, 15.0, 15.0, 17.0, 17.0, 17.0, 2.0, 2.0, 12.0, 9.0, 9.0, 26.0, 9.0, 7.0, 6.0, 10.0, 9.0, 9.0, 12.0, 14.0, 14.0, 8.0, 8.0, 20.0, 20.0, 15.0, 9.0, 6.0, 6.0, 7.0, 13.0, 10.0, 6.0, 15.0, 4.0, 7.0, 7.0, 14.0, 21.0, 22.0, 20.0, 11.0, 10.0, 8.0, 7.0, 7.0, 19.0, 3.0, 3.0, 20.0, 10.0, 7.0, 8.0, 4.0, 11.0, 4.0, 12.0, 8.0, 7.0, 6.0, 3.0, 3.0, 4.0, 11.0, 9.0, 8.0, 15.0, 15.0, 16.0, 15.0, 12.0, 12.0, 7.0, 15.0, 7.0, 7.0, 6.0, 6.0, 6.0, 6.0, 9.0, 9.0, 10.0, 7.0, 17.0, 17.0, 6.0, 7.0, 7.0, 10.0, 10.0, 14.0, 9.0, 8.0, 2.0, 3.0, 6.0, 4.0, 4.0, 7.0, 4.0, 3.0, 5.0, 6.0, 11.0, 12.0, 19.0, 14.0, 14.0, 15.0, 17.0, 14.0, 15.0, 17.0, 14.0, 15.0, 14.0, 17.0, 14.0, 6.0, 26.0, 16.0, 6.0, 12.0, 7.0, 12.0, 12.0, 6.0, 6.0, 10.0, 3.0, 2.0, 9.0, 1.0, 1.0, 2.0, 6.0, 22.0, 22.0, 11.0, 8.0, 12.0, 11.0, 3.0, 11.0, 9.0, 6.0, 3.0, 3.0, 5.0, 4.0, 5.0, 3.0, 3.0, 3.0, 2.0, 3.0, 7.0, 8.0, 14.0, 6.0, 5.0, 6.0, 9.0, 4.0, 4.0, 7.0, 6.0, 17.0, 8.0, 12.0, 12.0, 12.0, 8.0, 5.0, 2.0, 2.0, 2.0, 2.0, 2.0, 5.0, 3.0, 2.0, 4.0, 5.0, 5.0, 2.0, 2.0, 2.0, 3.0, 4.0, 3.0, 3.0, 3.0, 7.0, 7.0, 6.0, 10.0, 8.0, 10.0, 9.0, 7.0, 8.0, 15.0, 8.0, 12.0, 12.0, 7.0, 2.0, 18.0, 3.0, 2.0, 6.0, 17.0, 16.0, 14.0, 12.0, 11.0, 15.0, 25.0, 25.0, 25.0, 25.0, 25.0, 25.0, 25.0, 25.0, 25.0, 25.0, 25.0, 25.0, 25.0, 25.0, 25.0, 25.0, 25.0, 25.0, 25.0, 25.0, 25.0, 25.0, 25.0, 25.0, 25.0, 25.0, 25.0, 25.0, 25.0, 25.0, 25.0, 25.0, 25.0, 25.0, 25.0, 25.0, 25.0, 25.0, 25.0, 25.0, 25.0, 25.0, 25.0, 25.0, 25.0, 25.0, 25.0, 25.0, 25.0, 7.0, 7.0, 7.0, 14.0, 16.0, 3.0, 11.0, 17.0, 10.0, 2.0, 10.0, 3.0, 3.0, 8.0, 13.0, 11.0, 19.0, 20.0, 20.0, 20.0, 3.0, 15.0, 16.0, 16.0, 16.0, 16.0, 5.0, 6.0, 3.0, 8.0, 15.0, 12.0, 13.0, 5.0, 4.0, 15.0, 5.0, 7.0, 13.0, 11.0, 2.0, 13.0, 6.0, 12.0, 12.0, 22.0, 7.0, 7.0, 7.0, 7.0, 14.0, 10.0, 13.0, 10.0, 14.0, 2.0, 7.0, 18.0, 1.0, 2.0, 6.0, 7.0, 3.0, 2.0, 3.0, 17.0, 17.0, 16.0, 4.0, 6.0, 2.0, 5.0, 6.0, 7.0, 7.0, 5.0, 5.0, 12.0, 15.0, 7.0, 22.0, 19.0, 8.0, 21.0, 21.0, 20.0, 14.0, 13.0, 8.0, 7.0, 8.0, 1.0, 14.0, 13.0, 13.0, 9.0, 5.0, 10.0, 2.0, 5.0, 19.0, 19.0, 10.0, 6.0, 9.0, 10.0, 20.0, 15.0, 15.0, 7.0, 7.0, 13.0, 4.0, 4.0, 5.0, 4.0, 5.0, 3.0, 5.0, 7.0, 8.0, 6.0, 4.0, 2.0, 4.0, 2.0, 2.0, 4.0, 4.0, 4.0, 14.0, 16.0, 3.0, 3.0, 6.0, 3.0, 20.0, 16.0, 16.0, 8.0, 2.0, 1.0, 7.0, 5.0, 7.0, 6.0, 16.0, 6.0, 6.0, 13.0, 7.0, 6.0, 6.0, 3.0, 6.0, 5.0, 1.0, 5.0, 1.0, 14.0, 16.0, 15.0, 15.0, 3.0, 10.0, 10.0, 20.0, 3.0, 14.0, 13.0, 14.0, 9.0, 8.0, 5.0, 16.0, 12.0, 4.0, 10.0, 11.0, 11.0, 13.0, 16.0, 3.0, 4.0, 20.0, 15.0, 13.0, 15.0, 16.0, 15.0, 7.0, 23.0, 23.0, 13.0, 8.0, 4.0, 4.0, 9.0, 20.0, 21.0, 20.0, 5.0, 13.0, 14.0, 1.0, 2.0, 19.0, 6.0, 4.0, 5.0, 6.0, 7.0, 8.0, 3.0, 9.0, 6.0, 2.0, 2.0, 3.0, 2.0, 2.0, 8.0, 2.0, 4.0, 6.0, 6.0, 24.0, 11.0, 4.0, 20.0, 6.0, 7.0, 18.0, 8.0, 7.0, 9.0, 9.0, 9.0, 10.0, 8.0, 8.0, 9.0, 4.0, 3.0, 6.0, 9.0, 9.0, 5.0, 18.0, 12.0, 13.0, 13.0, 15.0, 13.0, 13.0, 23.0, 19.0, 12.0, 11.0, 3.0, 3.0, 12.0, 20.0, 13.0, 20.0, 17.0, 9.0, 12.0, 3.0, 3.0, 5.0, 6.0, 6.0, 15.0, 9.0, 12.0, 13.0, 11.0, 11.0, 15.0, 12.0, 3.0, 3.0, 3.0, 3.0, 3.0, 3.0, 3.0, 3.0, 4.0, 6.0, 7.0, 6.0, 20.0, 20.0, 11.0, 7.0, 12.0, 7.0, 21.0, 19.0, 21.0, 16.0, 12.0, 2.0, 3.0, 7.0, 7.0, 12.0, 15.0, 15.0, 3.0, 9.0, 13.0, 5.0, 5.0, 14.0, 19.0, 19.0, 19.0, 10.0, 10.0, 7.0, 15.0, 22.0, 22.0, 3.0, 3.0, 3.0, 13.0, 12.0, 12.0, 10.0, 12.0, 11.0, 12.0, 12.0, 8.0, 14.0, 7.0, 5.0, 6.0, 6.0, 17.0, 3.0, 11.0, 3.0, 7.0, 6.0, 15.0, 6.0, 14.0, 20.0, 14.0, 13.0, 14.0, 12.0, 14.0, 7.0, 7.0, 8.0, 15.0, 10.0, 12.0, 10.0, 8.0, 9.0, 17.0, 15.0, 14.0, 17.0, 17.0, 15.0, 20.0, 7.0, 13.0, 13.0, 8.0, 5.0, 10.0, 8.0, 4.0, 14.0, 12.0, 16.0, 15.0, 15.0, 14.0, 7.0, 7.0, 10.0, 19.0, 6.0, 6.0, 16.0, 17.0, 17.0, 17.0, 9.0, 6.0, 9.0, 20.0, 4.0, 5.0, 5.0, 16.0, 7.0, 5.0, 22.0, 23.0, 23.0, 5.0, 5.0, 13.0, 13.0, 16.0, 10.0, 6.0, 18.0, 12.0, 22.0, 17.0, 16.0, 2.0, 16.0, 5.0, 5.0, 5.0, 5.0, 5.0, 11.0, 16.0, 18.0, 13.0, 9.0, 10.0, 8.0, 10.0, 13.0, 16.0, 15.0, 16.0, 3.0, 15.0, 4.0, 15.0, 13.0, 6.0, 13.0, 14.0, 14.0, 15.0, 12.0, 13.0, 12.0, 11.0, 18.0, 18.0, 12.0, 14.0, 15.0, 3.0, 14.0, 14.0, 14.0, 14.0, 15.0, 14.0, 11.0, 8.0, 13.0, 14.0, 15.0, 18.0, 14.0, 14.0, 14.0, 13.0, 13.0, 16.0, 16.0, 16.0, 16.0, 14.0, 11.0, 16.0, 18.0, 10.0, 21.0, 22.0, 10.0, 6.0, 6.0, 14.0, 17.0, 15.0, 14.0, 17.0, 10.0, 15.0, 15.0, 15.0, 20.0, 6.0, 5.0, 6.0, 7.0, 5.0, 10.0, 10.0, 12.0, 6.0, 11.0, 12.0, 12.0, 6.0, 13.0, 13.0, 12.0, 16.0, 10.0, 14.0, 13.0, 22.0, 11.0, 7.0, 15.0, 18.0, 16.0, 22.0, 21.0, 12.0, 9.0, 20.0, 20.0, 5.0, 7.0, 17.0, 13.0, 8.0, 9.0, 5.0, 17.0, 17.0, 13.0, 13.0, 15.0, 9.0, 15.0, 15.0, 15.0, 20.0, 9.0, 9.0, 9.0, 12.0, 5.0, 14.0, 14.0, 16.0, 16.0, 8.0, 8.0, 14.0, 13.0, 7.0, 21.0, 20.0, 20.0, 18.0, 14.0, 8.0, 10.0, 5.0, 10.0, 10.0, 11.0, 13.0, 10.0, 4.0, 12.0, 12.0, 3.0, 10.0, 20.0, 20.0, 3.0, 10.0, 4.0, 10.0, 10.0, 8.0, 6.0, 7.0, 3.0, 16.0, 18.0, 2.0, 10.0, 10.0, 20.0, 6.0, 10.0, 2.0, 3.0, 9.0, 3.0, 4.0, 12.0, 11.0, 12.0, 7.0, 13.0, 13.0, 7.0, 2.0, 5.0, 4.0, 4.0, 4.0, 4.0, 5.0, 16.0, 1.0, 7.0, 5.0, 4.0, 15.0, 15.0, 15.0, 15.0, 14.0, 14.0, 15.0, 12.0, 13.0, 4.0, 6.0, 7.0, 10.0, 8.0, 4.0, 4.0, 5.0, 7.0, 7.0, 6.0, 6.0, 6.0, 7.0, 6.0, 9.0, 6.0, 6.0, 6.0, 6.0, 4.0, 2.0, 7.0, 9.0, 16.0, 4.0, 2.0, 12.0, 12.0, 7.0, 7.0, 7.0, 4.0, 15.0, 10.0, 7.0, 7.0, 4.0, 3.0, 8.0, 9.0, 5.0, 7.0, 6.0, 8.0, 5.0, 8.0, 5.0, 3.0, 9.0, 2.0, 9.0, 6.0, 7.0, 5.0, 14.0, 12.0, 16.0, 16.0, 3.0, 12.0, 14.0, 17.0, 14.0, 15.0, 14.0, 15.0, 13.0, 17.0, 10.0, 12.0, 10.0, 7.0, 7.0, 7.0, 6.0, 9.0, 1.0, 12.0, 6.0, 11.0, 10.0, 10.0, 3.0, 11.0, 15.0, 11.0, 15.0, 2.0, 5.0, 4.0, 3.0, 4.0, 2.0, 6.0, 8.0, 6.0, 6.0, 7.0, 3.0, 4.0, 8.0, 7.0, 4.0, 3.0, 6.0, 5.0, 4.0, 8.0, 9.0, 7.0, 10.0, 10.0, 11.0, 10.0, 2.0, 3.0, 4.0, 6.0, 4.0, 10.0, 3.0, 2.0, 10.0, 9.0, 8.0, 8.0, 11.0, 7.0, 3.0, 5.0, 9.0, 8.0, 12.0, 7.0, 8.0, 2.0, 3.0, 17.0]\n"
          ],
          "name": "stdout"
        },
        {
          "output_type": "execute_result",
          "data": {
            "text/plain": [
              "3255"
            ]
          },
          "metadata": {
            "tags": []
          },
          "execution_count": 8
        }
      ]
    },
    {
      "cell_type": "code",
      "metadata": {
        "id": "fO9o9N1ixqvm"
      },
      "source": [
        "h = tuple(H)\n",
        "D = [float(arbol['diametro']) for arbol in arboleda if arbol['nombre_com'] == 'Jacarandá']\n",
        "d = tuple(D)\n",
        "\n",
        "altos_y_diametros = [tuple(zip(h,d)) for arbol in arboleda if arbol['nombre_com'] == 'Jacarandá']\n",
        "#print(altos_y_diametros)"
      ],
      "execution_count": 24,
      "outputs": []
    },
    {
      "cell_type": "code",
      "metadata": {
        "colab": {
          "base_uri": "https://localhost:8080/"
        },
        "id": "t4XnPNxQ2o-R",
        "outputId": "423ef090-3c56-4edd-e3d5-874bdc207f76"
      },
      "source": [
        "len(h)"
      ],
      "execution_count": 28,
      "outputs": [
        {
          "output_type": "execute_result",
          "data": {
            "text/plain": [
              "3255"
            ]
          },
          "metadata": {
            "tags": []
          },
          "execution_count": 28
        }
      ]
    },
    {
      "cell_type": "code",
      "metadata": {
        "id": "8HhbLMB139dR"
      },
      "source": [
        "import numpy\n",
        "arr = numpy.array(altos_y_diametros)\n"
      ],
      "execution_count": 32,
      "outputs": []
    },
    {
      "cell_type": "code",
      "metadata": {
        "colab": {
          "base_uri": "https://localhost:8080/",
          "height": 295
        },
        "id": "OGZsykqP4oA3",
        "outputId": "90ee877b-83a2-4040-96b9-8211e802f4ac"
      },
      "source": [
        "import matplotlib.pyplot as plt\n",
        "import numpy as np\n",
        "plt.scatter(d,h)\n",
        "altura = np.array(h)\n",
        "diametro = np.array(d)\n",
        "\n",
        "N = 50\n",
        "colors = np.random.rand(N)\n",
        "area = (25 * np.random.rand(N))**2  # 0 to 15 point radii\n",
        "plt.xlabel(\"diametro (cm)\")\n",
        "plt.ylabel(\"alto (m)\")\n",
        "plt.title(\"Relación diámetro-alto para Jacarandás\")\n",
        "plt.scatter(diametro, altura, s=10, alpha=0.1)\n",
        "plt.show()\n"
      ],
      "execution_count": 44,
      "outputs": [
        {
          "output_type": "display_data",
          "data": {
            "image/png": "[encoded data removed]",
            "text/plain": [
              "<Figure size 432x288 with 1 Axes>"
            ]
          },
          "metadata": {
            "tags": [],
            "needs_background": "light"
          }
        }
      ]
    },
    {
      "cell_type": "code",
      "metadata": {
        "colab": {
          "base_uri": "https://localhost:8080/"
        },
        "id": "a6kRoEPu6e4Z",
        "outputId": "ab7f5e49-dc34-4a10-a86f-1f40442bc3a1"
      },
      "source": [
        "len(altura)"
      ],
      "execution_count": 38,
      "outputs": [
        {
          "output_type": "execute_result",
          "data": {
            "text/plain": [
              "3255"
            ]
          },
          "metadata": {
            "tags": []
          },
          "execution_count": 38
        }
      ]
    },
    {
      "cell_type": "code",
      "metadata": {
        "id": "ZWd6tJFj2LmQ"
      },
      "source": [
        ""
      ],
      "execution_count": 30,
      "outputs": []
    },
    {
      "cell_type": "code",
      "metadata": {
        "id": "YGnUG5SVx0Dy"
      },
      "source": [
        "especies = ['Eucalipto', 'Palo borracho rosado', 'Jacarandá']\n",
        "def medidas_de_especies(especies,arboleda):\n",
        "    '''devuelve un diccionario cuyas claves son las especies y sus valores asociados altura y diámetro'''\n",
        "    dicciTotal = {}\n",
        "    for especie in especies:\n",
        "        a = {especie: [(float(arbol['altura_tot']), float(arbol['diametro'])) for arbol in arboleda if arbol[\"nombre_com\"] == especie]}\n",
        "        dicciTotal.update(a)\n",
        "    return dicciTotal\n",
        "dicciTotal = medidas_de_especies(especies, arboleda)\n",
        "\n",
        "\n",
        "     "
      ],
      "execution_count": 11,
      "outputs": []
    },
    {
      "cell_type": "code",
      "metadata": {
        "id": "PNZ77HQ1yUWz"
      },
      "source": [
        "%matplotlib inline\n",
        "\n",
        "import matplotlib.pyplot as plt"
      ],
      "execution_count": 13,
      "outputs": []
    },
    {
      "cell_type": "code",
      "metadata": {
        "colab": {
          "base_uri": "https://localhost:8080/",
          "height": 384
        },
        "id": "Rv7QV4JMyZP5",
        "outputId": "cfccb235-7d26-4a58-b853-a77b42fabcbe"
      },
      "source": [
        "nombre_archivo = 'arbolado-en-espacios-verdes.csv'\n",
        "import os\n",
        "import matplotlib.pyplot as plt\n",
        "os.path.join('..', 'Data', 'arbolado-en-espacios-verdes.csv')\n",
        "arboleda = leer_arboles(nombre_archivo)\n",
        "altos = H = [float(arbol['altura_tot']) for arbol in arboleda if arbol['nombre_com'] == 'Jacarandá']\n",
        "plt.hist(altos,bins=25)\n",
        "\n",
        "\n",
        "\n",
        "\n"
      ],
      "execution_count": 19,
      "outputs": [
        {
          "output_type": "execute_result",
          "data": {
            "text/plain": [
              "(array([187., 423., 431., 412., 311., 317., 332., 358., 164., 146.,  80.,\n",
              "         30.,  52.,   6.,   3.,   1.,   0.,   1.,   0.,   0.,   0.,   0.,\n",
              "          0.,   0.,   1.]),\n",
              " array([ 1.  ,  2.92,  4.84,  6.76,  8.68, 10.6 , 12.52, 14.44, 16.36,\n",
              "        18.28, 20.2 , 22.12, 24.04, 25.96, 27.88, 29.8 , 31.72, 33.64,\n",
              "        35.56, 37.48, 39.4 , 41.32, 43.24, 45.16, 47.08, 49.  ]),\n",
              " <a list of 25 Patch objects>)"
            ]
          },
          "metadata": {
            "tags": []
          },
          "execution_count": 19
        },
        {
          "output_type": "display_data",
          "data": {
            "image/png": "[encoded data removed]",
            "text/plain": [
              "<Figure size 432x288 with 1 Axes>"
            ]
          },
          "metadata": {
            "tags": [],
            "needs_background": "light"
          }
        }
      ]
    },
    {
      "cell_type": "code",
      "metadata": {
        "colab": {
          "base_uri": "https://localhost:8080/"
        },
        "id": "5MO1C40802rV",
        "outputId": "0c5f41a7-7d55-486f-ae0f-906781b1bb09"
      },
      "source": [
        "len(altos_y_diametros)"
      ],
      "execution_count": 20,
      "outputs": [
        {
          "output_type": "execute_result",
          "data": {
            "text/plain": [
              "3255"
            ]
          },
          "metadata": {
            "tags": []
          },
          "execution_count": 20
        }
      ]
    },
    {
      "cell_type": "code",
      "metadata": {
        "colab": {
          "base_uri": "https://localhost:8080/",
          "height": 282
        },
        "id": "MufH43KQ2RNn",
        "outputId": "6bf4a6b8-91a0-4534-816f-50ea17d35614"
      },
      "source": [
        "import matplotlib.pyplot as plt\n",
        "plt.scatter(d,h)"
      ],
      "execution_count": 22,
      "outputs": [
        {
          "output_type": "execute_result",
          "data": {
            "text/plain": [
              "<matplotlib.collections.PathCollection at 0x7fab9132cf50>"
            ]
          },
          "metadata": {
            "tags": []
          },
          "execution_count": 22
        },
        {
          "output_type": "display_data",
          "data": {
            "image/png": "[encoded data removed]",
            "text/plain": [
              "<Figure size 432x288 with 1 Axes>"
            ]
          },
          "metadata": {
            "tags": [],
            "needs_background": "light"
          }
        }
      ]
    }
  ]
}